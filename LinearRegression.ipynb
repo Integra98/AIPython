{
 "cells": [
  {
   "cell_type": "code",
   "execution_count": 1,
   "metadata": {},
   "outputs": [],
   "source": [
    "%matplotlib inline                     #Импорт библиотек для работы с матрицами и отображения графиков\n",
    "import matplotlib.pyplot as plt\n",
    "import numpy as np\n",
    "import time"
   ]
  },
  {
   "cell_type": "code",
   "execution_count": 7,
   "metadata": {},
   "outputs": [
    {
     "name": "stdout",
     "output_type": "stream",
     "text": [
      "--- 0.030868053436279297 seconds ---\n"
     ]
    },
    {
     "data": {
      "image/png": "[encoded data removed]",
      "text/plain": [
       "<Figure size 432x288 with 1 Axes>"
      ]
     },
     "metadata": {
      "needs_background": "light"
     },
     "output_type": "display_data"
    }
   ],
   "source": [
    "def regressionByIteration():\n",
    "    import matplotlib.pyplot as plt \n",
    "    import numpy as np\n",
    "    \n",
    "    start_time = time.time()\n",
    "    \n",
    "    xr = np.matrix(np.linspace(0,10,30)) #Матрица значений от 0 до 10\n",
    "    x=xr.T                               #Транспонированная матрица\n",
    "    #print(x)\n",
    "    #y=x^2+1\n",
    "    y=np.power(x,2)+1                    #Объявляем матрицу y\n",
    "    #print(y)\n",
    "    plt.plot(x,y,'o')                    #Отображаем график в виде множества точек\n",
    "    m=x.size\n",
    "    on=np.ones([m,1])                    #Матрица еденичных значений\n",
    "    X=np.concatenate((on,x),axis=1)      #Конкатенация матриц\n",
    "    theta=np.matrix('0.1;1.3')\n",
    "    h=np.dot(X,theta)                    #Сложение матриц\n",
    "    #plt.plot(x,h) \n",
    "    alpha=0.0005\n",
    "    iter = 100\n",
    "    j=0\n",
    "    \n",
    "    for i in range (iter):\n",
    "        theta[0][0]=theta[0][0]-alpha*(1/m)*np.sum(h-y)\n",
    "        theta[1][0]=theta[1][0]-alpha*(1/m)*np.sum(np.multiply(h-y,x))\n",
    "        h=np.dot(X,theta)\n",
    "    plt.plot(x,h) \n",
    "    \n",
    "    print(\"--- %s seconds ---\" % (time.time() - start_time))\n",
    "    \n",
    "regressionByIteration()   "
   ]
  },
  {
   "cell_type": "code",
   "execution_count": null,
   "metadata": {},
   "outputs": [],
   "source": []
  }
 ],
 "metadata": {
  "kernelspec": {
   "display_name": "Python 3",
   "language": "python",
   "name": "python3"
  },
  "language_info": {
   "codemirror_mode": {
    "name": "ipython",
    "version": 3
   },
   "file_extension": ".py",
   "mimetype": "text/x-python",
   "name": "python",
   "nbconvert_exporter": "python",
   "pygments_lexer": "ipython3",
   "version": "3.7.1"
  }
 },
 "nbformat": 4,
 "nbformat_minor": 2
}
