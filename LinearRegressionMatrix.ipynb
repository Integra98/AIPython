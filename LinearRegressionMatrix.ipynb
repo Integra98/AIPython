{
 "cells": [
  {
   "cell_type": "code",
   "execution_count": 1,
   "metadata": {},
   "outputs": [],
   "source": [
    "%matplotlib inline             \n",
    "import matplotlib.pyplot as plt\n",
    "import numpy as np\n",
    "import time\n"
   ]
  },
  {
   "cell_type": "code",
   "execution_count": 15,
   "metadata": {},
   "outputs": [
    {
     "name": "stdout",
     "output_type": "stream",
     "text": [
      "Sum of Squared Errors : [[2.6492973e-24]]\n",
      "--- 0.0247344970703125 seconds ---\n"
     ]
    },
    {
     "data": {
      "image/png": "[encoded data removed]",
      "text/plain": [
       "<Figure size 432x288 with 1 Axes>"
      ]
     },
     "metadata": {
      "needs_background": "light"
     },
     "output_type": "display_data"
    }
   ],
   "source": [
    "def regressionByIteration():\n",
    "    import matplotlib.pyplot as plt \n",
    "    import numpy as np\n",
    "    \n",
    "    start_time = time.time()\n",
    "    \n",
    "    xr = np.matrix(np.linspace(0,10,30)) \n",
    "    x=xr.T                               \n",
    "    #print(x)\n",
    "    #y=x^2+1\n",
    "    y=np.power(x,2)+1                    \n",
    "    #print(y)\n",
    "    plt.plot(x,y,'o')                   \n",
    "    m=x.size\n",
    "    on=np.ones([m,1])\n",
    "    X1=np.concatenate((on,x),axis=1)\n",
    "    X=np.concatenate((X1,np.power(x,2)),axis=1)\n",
    "    #X=np.concatenate((on,x),axis=1)\n",
    "    theta=np.matrix('0.1;1.3;2.5')\n",
    "    #theta=np.matrix('0.1;1.3')\n",
    "    h=np.dot(X,theta)\n",
    "    #plt.plot(x,h) \n",
    "    alpha=0.05\n",
    "    iter = 100\n",
    "    j=0\n",
    "    \n",
    "    theta1=np.matmul(X.T,X)\n",
    "    theta2=np.matmul(theta1.I,X.T)\n",
    "    finalTheta=np.matmul(theta2,y)\n",
    "    h=np.matmul(X,finalTheta)\n",
    "    plt.plot(x,h) \n",
    "    \n",
    "    err=np.dot((h-y).T,h-y)\n",
    "    print(\"Sum of Squared Errors : %s\" % err)\n",
    "    \n",
    "    print(\"--- %s seconds ---\" % (time.time() - start_time))\n",
    " \n",
    "    \n",
    "regressionByIteration()    \n"
   ]
  },
  {
   "cell_type": "code",
   "execution_count": null,
   "metadata": {},
   "outputs": [],
   "source": []
  }
 ],
 "metadata": {
  "kernelspec": {
   "display_name": "Python 3",
   "language": "python",
   "name": "python3"
  },
  "language_info": {
   "codemirror_mode": {
    "name": "ipython",
    "version": 3
   },
   "file_extension": ".py",
   "mimetype": "text/x-python",
   "name": "python",
   "nbconvert_exporter": "python",
   "pygments_lexer": "ipython3",
   "version": "3.7.1"
  }
 },
 "nbformat": 4,
 "nbformat_minor": 2
}
