{
 "cells": [
  {
   "cell_type": "code",
   "execution_count": 2,
   "metadata": {},
   "outputs": [],
   "source": [
    "%matplotlib inline                     \n",
    "import matplotlib.pyplot as plt\n",
    "import numpy as np\n",
    "import time"
   ]
  },
  {
   "cell_type": "code",
   "execution_count": 14,
   "metadata": {},
   "outputs": [
    {
     "data": {
      "text/plain": [
       "<matplotlib.collections.PathCollection at 0x1c30ac18128>"
      ]
     },
     "execution_count": 14,
     "metadata": {},
     "output_type": "execute_result"
    },
    {
     "data": {
      "image/png": "[encoded data removed]",
      "text/plain": [
       "<Figure size 432x288 with 1 Axes>"
      ]
     },
     "metadata": {
      "needs_background": "light"
     },
     "output_type": "display_data"
    }
   ],
   "source": [
    "from sklearn.datasets import make_blobs\n",
    "from matplotlib.colors import ListedColormap\n",
    "X_D2,y_D2=make_blobs(n_samples=30,n_features=2, centers=2, cluster_std=1.3, random_state=0)\n",
    "\n",
    "plt.figure\n",
    "plt.scatter(X_D2[:,0],X_D2[:,1], c = y_D2,marker=\"o\", s=50, cmap= ListedColormap(['#FF0000','#00FF00']))"
   ]
  },
  {
   "cell_type": "code",
   "execution_count": 18,
   "metadata": {},
   "outputs": [
    {
     "name": "stdout",
     "output_type": "stream",
     "text": [
      "0.7310585786300049\n"
     ]
    }
   ],
   "source": [
    "def logisticFunction(x, theta):\n",
    "    h=1/(1+np.exp(-np.dot(x,theta)))\n",
    "    return h\n",
    "#theta=np.array([0.5,0.5]);\n",
    "#print(logisticFunction(np.array([1,1]),theta))\n"
   ]
  },
  {
   "cell_type": "code",
   "execution_count": 34,
   "metadata": {
    "scrolled": true
   },
   "outputs": [
    {
     "name": "stdout",
     "output_type": "stream",
     "text": [
      "---LogisticRegression---\n",
      "h = [0.91849921 0.98512287 0.6255964  0.84186    0.95378144 0.98280226\n",
      " 0.99735967 0.5865205  0.82142417 0.98769348 0.83878257 0.98064721\n",
      " 0.89354381 0.9803019  0.97466367 0.92663656 0.96953364 0.97708213\n",
      " 0.98531573 0.98338359 0.97032423 0.8883983  0.41496829 0.77366809\n",
      " 0.73615459 0.72942469 0.77227477 0.44576981 0.99342447 0.73372301]\n",
      "Result\n",
      "[[ 1.         -0.16288373  3.43367167  1.          0.15689103]\n",
      " [ 1.          1.55329228  4.73756395  0.          0.13308093]\n",
      " [ 1.         -0.04279968  0.6211013   1.          0.46539762]\n",
      " [ 1.          1.60298173  1.10091732  1.          0.5224451 ]\n",
      " [ 1.          1.38325809  3.19346287  0.          0.25038563]\n",
      " [ 1.          1.17770173  4.7953986   0.          0.11755222]\n",
      " [ 1.          2.96888306  6.21395373  0.          0.09555803]\n",
      " [ 1.          1.39122084 -0.63715818  1.          0.72290665]\n",
      " [ 1.          0.89116099  1.40063691  1.          0.43024556]\n",
      " [ 1.          2.91857287  4.03708158  0.          0.25055166]\n",
      " [ 1.          0.42663355  1.90840112  1.          0.33401644]\n",
      " [ 1.          3.40409547  3.03332608  0.          0.39785502]\n",
      " [ 1.          2.01863062  1.45449509  1.          0.50574517]\n",
      " [ 1.          0.84208557  4.83756538  0.          0.10550959]\n",
      " [ 1.          3.65464541  2.46075746  1.          0.49160264]\n",
      " [ 1.         -2.34261668  5.1534915   0.          0.03745157]\n",
      " [ 1.          1.03575615  4.06044832  0.          0.15925458]\n",
      " [ 1.          3.92695109  2.41311195  0.          0.51806647]\n",
      " [ 1.          1.96561912  4.46196485  0.          0.16733942]\n",
      " [ 1.          2.21138502  4.10702296  0.          0.2072078 ]\n",
      " [ 1.          2.10003714  3.3389728   0.          0.27627052]\n",
      " [ 1.          2.14173991  1.29087713  1.          0.53668522]\n",
      " [ 1.          0.99817735 -1.34650372  1.          0.77261553]\n",
      " [ 1.          1.55174266  0.50467008  1.          0.59731668]\n",
      " [ 1.          1.39271969  0.32816707  1.          0.60872925]\n",
      " [ 1.          1.18106894  0.43024455  1.          0.58049549]\n",
      " [ 1.         -0.17785139  1.72875192  0.          0.316012  ]\n",
      " [ 1.          0.69214867 -0.94835966  1.          0.71492765]\n",
      " [ 1.          1.16352672  6.19434289  0.          0.05897786]\n",
      " [ 1.          1.2306488   0.42610014  1.          0.58459352]]\n",
      "[ 0.20689565  0.29508368 -0.53597905]\n"
     ]
    }
   ],
   "source": [
    "def LogisticRegressionByNumpy(x,y):\n",
    "    print('---LogisticRegression---')\n",
    "    m=y.size\n",
    "    on = np.ones([m,1])\n",
    "    x=np.concatenate((on,x),axis=1)\n",
    "    theta =np.array([0.1,0.5,0.7]);\n",
    "    h=logisticFunction(x, theta)\n",
    "    print('h =', h)\n",
    "    #print(np.concatenate((x,y.reshape(-1,1),h.reshape(-1,1)),axis=1))\n",
    "    alpha =0.05\n",
    "    iter=50\n",
    "    for i in range (iter):\n",
    "        theta=theta-alpha*(1/m)*np.dot(x.T,(h-y))\n",
    "        h=logisticFunction(x, theta)\n",
    "    print(\"Result\")\n",
    "    h=logisticFunction(x, theta)\n",
    "\n",
    "    print(np.concatenate((x,y.reshape(-1,1),h.reshape(-1,1)),axis=1))\n",
    "    return theta\n",
    "    \n",
    "print(LogisticRegressionByNumpy(X_D2,y_D2))"
   ]
  },
  {
   "cell_type": "code",
   "execution_count": 35,
   "metadata": {},
   "outputs": [],
   "source": [
    "#1)Change dataset\n",
    "#2)Calculate accurancy\n"
   ]
  },
  {
   "cell_type": "code",
   "execution_count": null,
   "metadata": {},
   "outputs": [],
   "source": []
  }
 ],
 "metadata": {
  "kernelspec": {
   "display_name": "Python 3",
   "language": "python",
   "name": "python3"
  },
  "language_info": {
   "codemirror_mode": {
    "name": "ipython",
    "version": 3
   },
   "file_extension": ".py",
   "mimetype": "text/x-python",
   "name": "python",
   "nbconvert_exporter": "python",
   "pygments_lexer": "ipython3",
   "version": "3.7.1"
  }
 },
 "nbformat": 4,
 "nbformat_minor": 2
}
